{
 "cells": [
  {
   "metadata": {},
   "cell_type": "markdown",
   "source": "# Videoaula: Máquina de vetores de suporte e algoritmo C4.5",
   "id": "6bb343ccad7089c1"
  },
  {
   "metadata": {},
   "cell_type": "markdown",
   "source": [
    "Bloco 1: Máquina de Vetores de Suporte e Algoritmo C4.5\n",
    "- Implementação do Algoritmo Árvore de Decisão do J48 em R\n",
    "\n",
    "D:\\Users\\Nayan Couto\\Cloud Drive\\Documentos\\Arquivos PDF, PPT, DOC\\Ciências de Dados - Anhanguera Ampli\\Inteligência Artificial\\Mineração de Dados\\Data_Mining\\Unidade_IV\\Aula_I\\C4.5_J48.R"
   ],
   "id": "84927b038fb36ee9"
  },
  {
   "metadata": {},
   "cell_type": "markdown",
   "source": "# Videoaula: Algoritmo apriori",
   "id": "ba1910847bfe1188"
  },
  {
   "metadata": {},
   "cell_type": "markdown",
   "source": [
    "Bloco 2: Algoritmo a Priori\n",
    "\n",
    "> Regras de Associação:\n",
    "- X -> Y\n",
    "\n",
    "Exemplo: Vendas Casadas."
   ],
   "id": "7ae30a776042b1e8"
  },
  {
   "metadata": {},
   "cell_type": "markdown",
   "source": "# Videoaula: Algoritmo k-means",
   "id": "4eb03f4916f8bef1"
  },
  {
   "metadata": {},
   "cell_type": "markdown",
   "source": "Bloco 3: Algoritmo Kmeans.",
   "id": "ab7a7c5290eb99d2"
  }
 ],
 "metadata": {
  "kernelspec": {
   "display_name": "Python 3",
   "language": "python",
   "name": "python3"
  },
  "language_info": {
   "codemirror_mode": {
    "name": "ipython",
    "version": 2
   },
   "file_extension": ".py",
   "mimetype": "text/x-python",
   "name": "python",
   "nbconvert_exporter": "python",
   "pygments_lexer": "ipython2",
   "version": "2.7.6"
  }
 },
 "nbformat": 4,
 "nbformat_minor": 5
}
