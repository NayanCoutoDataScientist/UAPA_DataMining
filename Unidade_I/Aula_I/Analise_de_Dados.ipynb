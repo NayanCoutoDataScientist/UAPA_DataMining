{
 "cells": [
  {
   "metadata": {},
   "cell_type": "markdown",
   "source": "# Videoaula: Os dados na tomada de decisão",
   "id": "cf327683d9ca1016"
  },
  {
   "metadata": {},
   "cell_type": "markdown",
   "source": [
    "**Introdução à Data Mining**\n",
    "> Extração e filtragem de dados.\n",
    "> \n",
    "> Descoberta de padrões.\n",
    "> \n",
    "> Ponte entre a Estatística e a Inteligência Artificial.\n",
    "> \n",
    "\n",
    "**Tomada de Decisão**\n",
    "> Compras de Produtos.\n",
    "> \n",
    "> Melhorias na Saúde.\n",
    "> \n",
    "\n",
    "**Influência em Redes Sociais**\n",
    "> Direcionamento de conteúdo.\n",
    "> \n",
    "> Fake News.\n",
    "> \n",
    "> Eleições 2016 nos EUA."
   ],
   "id": "437981fe5809b86c"
  },
  {
   "metadata": {},
   "cell_type": "markdown",
   "source": "# Videoaula: Dados, informação e conhecimento",
   "id": "ba37fcd8a946411a"
  },
  {
   "metadata": {},
   "cell_type": "markdown",
   "source": [
    "**Conceitos Fundamentais**\n",
    "> Dados.\n",
    "> \n",
    "> Informação.\n",
    "> \n",
    "> Conhecimento.\n",
    "\n",
    "**Dados**\n",
    "> Particulas Fundamentais.\n",
    "> \n",
    "> Sem Organização.\n",
    "> \n",
    "> Conteúdo Bruto.\n",
    "\n",
    "**Informação**\n",
    "> Dados organizados.\n",
    "> \n",
    "> Extração e filtragem.\n",
    "> \n",
    "> Significado.\n",
    "\n",
    "**Conhecimento**\n",
    "> Informação aplicada.\n",
    "> \n",
    "> Capacidade cognitiva.\n",
    "> \n",
    "> Produtos de Conhecimento."
   ],
   "id": "cea2ce150bf0eaf5"
  },
  {
   "metadata": {},
   "cell_type": "markdown",
   "source": "# Videoaula: Dados Estruturados, Dados não estruturados e convenções",
   "id": "e1ceac2800130521"
  },
  {
   "metadata": {},
   "cell_type": "markdown",
   "source": [
    "**Classificação de Dados**\n",
    "> Estruturados.\n",
    "> \n",
    "> Não Estruturados.\n",
    "\n",
    "**Dados Estruturados**\n",
    "> Padrões.\n",
    "> \n",
    "> Fácil compreensão.\n",
    "\n",
    "**Dados não estruturados**\n",
    "> Ausência de organização.\n",
    "> \n",
    "> Difícil entendimento.\n",
    "\n",
    "**Convenções**\n",
    "> Padrões e regras.\n",
    "> \n",
    "> Facilita a análise.\n",
    "> \n",
    "> Auxilia a filtragem.\n",
    "> \n",
    "> Documento e bancos de dados.\n",
    "> \n",
    "> camelCase e snake_case."
   ],
   "id": "265632131fb835a4"
  },
  {
   "metadata": {},
   "cell_type": "code",
   "outputs": [],
   "execution_count": null,
   "source": "",
   "id": "849b7a5b7a88d4d7"
  }
 ],
 "metadata": {
  "kernelspec": {
   "display_name": "Python 3",
   "language": "python",
   "name": "python3"
  },
  "language_info": {
   "codemirror_mode": {
    "name": "ipython",
    "version": 2
   },
   "file_extension": ".py",
   "mimetype": "text/x-python",
   "name": "python",
   "nbconvert_exporter": "python",
   "pygments_lexer": "ipython2",
   "version": "2.7.6"
  }
 },
 "nbformat": 4,
 "nbformat_minor": 5
}
