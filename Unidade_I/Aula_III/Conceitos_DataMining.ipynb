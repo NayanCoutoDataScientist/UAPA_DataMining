{
 "cells": [
  {
   "metadata": {},
   "cell_type": "markdown",
   "source": "# Videoaula: Evolução da tecnologia de banco de dados",
   "id": "e6742ead38ea7d73"
  },
  {
   "metadata": {},
   "cell_type": "markdown",
   "source": [
    "**Histórico**\n",
    "> Banco de dados.\n",
    "> \n",
    "> Computador.\n",
    "> \n",
    "> Unidades de armazenamento.\n",
    "\n",
    "**Banco de Dados**\n",
    "> Ted Codd.\n",
    "> \n",
    "> Complexidade dos Dados.\n",
    "> \n",
    "> Automatização.\n",
    "> \n",
    "> SQL.\n",
    "\n",
    "**Banco de Dados Relacional**\n",
    "> Linguagem de consulta estruturada.\n",
    "> \n",
    "> Relacionamento de dados."
   ],
   "id": "56f5509c0eb2b6b8"
  },
  {
   "metadata": {},
   "cell_type": "markdown",
   "source": "# Videoaula: Mineração de dados",
   "id": "46c63aa3af259c0b"
  },
  {
   "metadata": {},
   "cell_type": "markdown",
   "source": [
    "**Mineração de Dados**\n",
    "> Big data.\n",
    ">\n",
    "> Gerenciamento.\n",
    "> \n",
    "> Operações.\n",
    "\n",
    "*Padrões**\n",
    "> Reconhecimento de padrões.\n",
    "> \n",
    "> Modelos.\n",
    "\n",
    "**Modelos**\n",
    "> Regressão.\n",
    "> \n",
    "> Aprendizagem de Máquina.\n"
   ],
   "id": "38a87560f61d4eba"
  },
  {
   "metadata": {},
   "cell_type": "markdown",
   "source": "# Videoaula: Aplicações potenciais da mineração de dados",
   "id": "81e14485563311cb"
  },
  {
   "metadata": {},
   "cell_type": "markdown",
   "source": [
    "**Contexto**\n",
    "> Internet.\n",
    "> \n",
    "> Fluxo de Dados.\n",
    "> \n",
    "> Possibilidades.\n",
    "\n",
    "**Possibilidades**\n",
    "> Organização de Supermercados.\n",
    "> \n",
    "> Análise de Crimes."
   ],
   "id": "d64c6836179f5d54"
  },
  {
   "metadata": {},
   "cell_type": "code",
   "outputs": [],
   "execution_count": null,
   "source": "",
   "id": "2956157c7d0ecbb3"
  }
 ],
 "metadata": {
  "kernelspec": {
   "display_name": "Python 3",
   "language": "python",
   "name": "python3"
  },
  "language_info": {
   "codemirror_mode": {
    "name": "ipython",
    "version": 2
   },
   "file_extension": ".py",
   "mimetype": "text/x-python",
   "name": "python",
   "nbconvert_exporter": "python",
   "pygments_lexer": "ipython2",
   "version": "2.7.6"
  }
 },
 "nbformat": 4,
 "nbformat_minor": 5
}
