{
 "cells": [
  {
   "metadata": {},
   "cell_type": "markdown",
   "source": "# Videoaula: A tarefa de agrupamento: hierárquico e por partição",
   "id": "7a52b470d3be59bf"
  },
  {
   "metadata": {},
   "cell_type": "markdown",
   "source": [
    "**Segmentação de imagens**\n",
    "> Processamento de imagens para:\n",
    ">> Robótica, Medicina, Metereologia...\n",
    "> \n",
    "> O que é feito?\n",
    ">> Manipulação e análise, dividindo a imagem em segmentos onde os pixels são analisados.\n",
    ">\n",
    "> O processo inclui:\n",
    "- Aquisição;\n",
    "- Pré-processamento;\n",
    "- Segmentação;\n",
    "- Descrição;\n",
    "- Reconhecimento e Interpretação.\n",
    "\n",
    "**Mineração de Textos**\n",
    "> Transforma dados não estruturados em conhecimento.\n",
    "> \n",
    "> Processo em 3 etapas:\n",
    ">> Pré-processamento: dados textuais são padronizados;\n",
    ">> Extração de padrões: usa algoritmos como o k-means para extrair padrões textuais.\n",
    ">> Avaliação do conhecimento: avaliados conforme contexto do problema apresentado."
   ],
   "id": "f0c683a529c3f64a"
  },
  {
   "metadata": {},
   "cell_type": "markdown",
   "source": "# Videoaula: A tarefa de agrupamento: por densidade e mapas auto-organizáveis",
   "id": "5fbdd09f7fc30615"
  },
  {
   "metadata": {},
   "cell_type": "markdown",
   "source": [
    "**Aplicação do SOM**\n",
    "> Exemplo: Avaliação de local para mineração.\n",
    "> \n",
    "> Na interpretação dos dados aerogeofísicos e geológicos.\n",
    "> \n",
    "> Os algoritmos ajudam a identificação de padrões associados às minerações, permitindo que locais sejam avaliados.\n",
    "> \n",
    "> Formas de captação dos dados aerogeofísicos e geológicos:\n",
    ">> Satélite;\n",
    ">> \n",
    ">> Aviões;\n",
    ">> \n",
    ">> Helicópteros;\n",
    ">>\n",
    ">> Drones;"
   ],
   "id": "ad65c92846a58738"
  },
  {
   "metadata": {},
   "cell_type": "markdown",
   "source": "# Videoaula: Modelos para análise de agrupamento",
   "id": "ee5adab67a241698"
  },
  {
   "metadata": {},
   "cell_type": "markdown",
   "source": [
    "**Clusterização + K-Means e Scikit-Learn**\n",
    "> Kmeans: Algoritmo de modelo de agrupamento.\n",
    "> \n",
    "> Scikit Learn: Biblioteca de algoritmos de clustering.\n",
    "> \n",
    "> Cluster: Grupos de entidades com as mesmas características.\n",
    "> \n",
    "> Centróide: Centro de cada cluster.\n",
    "> \n",
    "> Conto: Conjunto de dados."
   ],
   "id": "7bf30b31d56b895e"
  },
  {
   "metadata": {},
   "cell_type": "code",
   "outputs": [],
   "execution_count": null,
   "source": "",
   "id": "cb0b889cbce4b4b"
  }
 ],
 "metadata": {
  "kernelspec": {
   "display_name": "Python 3",
   "language": "python",
   "name": "python3"
  },
  "language_info": {
   "codemirror_mode": {
    "name": "ipython",
    "version": 2
   },
   "file_extension": ".py",
   "mimetype": "text/x-python",
   "name": "python",
   "nbconvert_exporter": "python",
   "pygments_lexer": "ipython2",
   "version": "2.7.6"
  }
 },
 "nbformat": 4,
 "nbformat_minor": 5
}
