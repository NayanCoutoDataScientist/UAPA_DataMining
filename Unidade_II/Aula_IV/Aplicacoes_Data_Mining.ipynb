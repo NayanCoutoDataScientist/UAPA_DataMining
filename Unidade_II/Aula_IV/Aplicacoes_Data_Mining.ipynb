{
 "cells": [
  {
   "metadata": {},
   "cell_type": "markdown",
   "source": "",
   "id": "bc4cb5f5336e6321"
  },
  {
   "metadata": {},
   "cell_type": "markdown",
   "source": "# Videoaula: Data mining em redes sociais",
   "id": "7d506b8691334c90"
  },
  {
   "metadata": {},
   "cell_type": "markdown",
   "source": [
    "**As Mídias Sociais**\n",
    "> Se referem a tecnologias facilitadoras de interações sociais entre pessoas, mediante as quais elas criam, compartilham e trocam informações, ideias e opiniões em comunidades e redes sociais.\n",
    "> \n",
    "> Mídias sociais baseadas na WEB são diferentes de veículos tradicionais, como jornais, televisão e cinema, já que são comparativamente baratas e acessíveis para que qualquer um publique ou consuma a informação.\n",
    "> \n",
    "> Eis algumas das características predominantes que ajudam a distinguir entre mídias sociais  mídias industriais:\n",
    "- Qualidade\n",
    "- Alcance\n",
    "- Frequencia\n",
    "- Acessibilidade\n",
    "- Usabilidade\n",
    "- Imediatismo\n",
    "- Facilidade de atualização\n",
    "\n",
    "**Mensurar o Impacto**\n",
    "> Para organizações de pequeno ou grande porte, exige um insight valioso oculto em todos os conteúdos gerados por usuários de mídias sociais:\n",
    "- Análise de dados descritivas;\n",
    "- Análise de redes sociais;\n",
    "- Análise de dados avançada;\n",
    "\n",
    "**Melhores Práticas**\n",
    "> Rastreie sentimentos elusivos;\n",
    ">\n",
    "> Aumente continuamente a análise de texto;\n",
    ">\n",
    "> Examine o efeito cascata;\n",
    ">\n",
    "> Olhe além da marca;\n",
    ">\n",
    "> Identifique seus influenciadores;\n",
    "> \n",
    "> Examine de perto sua ferramenta analítica;\n",
    ">\n",
    "> Incorpore análise de mídias sociais no planejamento;"
   ],
   "id": "b798b0d5f3dd90e0"
  },
  {
   "metadata": {},
   "cell_type": "markdown",
   "source": "# Videoaula: Mineração de dados e plataformas de streaming",
   "id": "3b7d0fbd816952f3"
  },
  {
   "metadata": {},
   "cell_type": "markdown",
   "source": [
    "**Modelo bag-of-words**\n",
    "> O modelo saco-de-palavras é uma representação simplificada utilizada no processamento de linguagem natural. Neste modelo, o texto é representado como um multiconjunto de suas palavras."
   ],
   "id": "d748cb42c079bb23"
  }
 ],
 "metadata": {
  "kernelspec": {
   "display_name": "Python 3",
   "language": "python",
   "name": "python3"
  },
  "language_info": {
   "codemirror_mode": {
    "name": "ipython",
    "version": 2
   },
   "file_extension": ".py",
   "mimetype": "text/x-python",
   "name": "python",
   "nbconvert_exporter": "python",
   "pygments_lexer": "ipython2",
   "version": "2.7.6"
  }
 },
 "nbformat": 4,
 "nbformat_minor": 5
}
