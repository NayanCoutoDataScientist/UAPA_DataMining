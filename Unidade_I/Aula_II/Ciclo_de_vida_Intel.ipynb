{
 "cells": [
  {
   "metadata": {},
   "cell_type": "markdown",
   "source": "# Videoaula: Aquisição de dados e geração da informação",
   "id": "c8a8165cf9abc2fd"
  },
  {
   "metadata": {},
   "cell_type": "markdown",
   "source": [
    "**Análise Exploratória**\n",
    "> Escolha de cenário.\n",
    "> \n",
    "> Objetivo de estudo.\n",
    "> \n",
    "> Definição de variáveis.\n",
    "> \n",
    "> Amostragem.\n",
    "\n",
    "**Disponibilidade e Disposição**\n",
    "> Fonte dos dados.\n",
    "> \n",
    "> Organização dos dados.\n",
    "\n",
    "**Tratamento dos Dados**\n",
    "> Extração.\n",
    ">> Tratamento.\n",
    ">>> Geração da informação."
   ],
   "id": "6554eb218843ba29"
  },
  {
   "metadata": {},
   "cell_type": "markdown",
   "source": "# Videoaula: Aquisição de dados e geração da informação",
   "id": "d4709e4fac42744e"
  },
  {
   "metadata": {},
   "cell_type": "markdown",
   "source": [
    "**Conhecimento**\n",
    "> Processo complexo.\n",
    "> \n",
    "> Conteúdo da área.\n",
    "> \n",
    "> Solução de problemas.\n",
    "\n",
    "**Tomada de Decisão**\n",
    "> Sub etapas.\n",
    "> \n",
    "> Possibilidades.\n",
    "> \n",
    "> Avaliação de Desempenhos.\n",
    "\n",
    "**Processos de Tomada de Decisão**\n",
    "> Metodologias.\n",
    "> \n",
    "> Critérios.\n",
    "> \n",
    "> Pesos."
   ],
   "id": "76cc4cc6a09eda45"
  },
  {
   "metadata": {},
   "cell_type": "markdown",
   "source": "# Videoaula: Ação do conhecimento e resultado",
   "id": "f7e4e7b2a2bb3697"
  },
  {
   "metadata": {},
   "cell_type": "markdown",
   "source": [
    "**Dados e Influência**\n",
    "> Dados:\n",
    ">> Mais comum.\n",
    ">>\n",
    ">> Sem tratamento.\n",
    "> \n",
    "> Conhecimentos\n",
    ">> Maior raridade.\n",
    ">>\n",
    ">> Complexidade.\n",
    "\n",
    "**Resultados**\n",
    "> Após tomada de decisão.\n",
    "> \n",
    "> Comparação.\n",
    "> \n",
    "> Ciclo repetitivo.\n",
    "> \n",
    "> Dados >>> Conhecimento >>> Informação.\n",
    "\n"
   ],
   "id": "9b3a6b5244ca0750"
  },
  {
   "metadata": {},
   "cell_type": "code",
   "outputs": [],
   "execution_count": null,
   "source": "",
   "id": "7d42560a93e3b873"
  }
 ],
 "metadata": {
  "kernelspec": {
   "display_name": "Python 3",
   "language": "python",
   "name": "python3"
  },
  "language_info": {
   "codemirror_mode": {
    "name": "ipython",
    "version": 2
   },
   "file_extension": ".py",
   "mimetype": "text/x-python",
   "name": "python",
   "nbconvert_exporter": "python",
   "pygments_lexer": "ipython2",
   "version": "2.7.6"
  }
 },
 "nbformat": 4,
 "nbformat_minor": 5
}
