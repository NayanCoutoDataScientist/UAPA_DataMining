{
 "cells": [
  {
   "metadata": {},
   "cell_type": "markdown",
   "source": "# Videoaula: Emprego de planejamento estratégico",
   "id": "f21d9cbb9e854c3b"
  },
  {
   "metadata": {},
   "cell_type": "markdown",
   "source": [
    "**Planejamento Estratégico**\n",
    "> Competitividade.\n",
    "> \n",
    "> Redução de erros.\n",
    "> \n",
    "> Análise de possibilidades.\n",
    "\n",
    "**Ciclo de Etapas**\n",
    "> PODC:\n",
    ">> Planejar >> Organizar >> Dirigir >> Controlar\n",
    "\n"
   ],
   "id": "3aa7a104fe605468"
  },
  {
   "metadata": {},
   "cell_type": "markdown",
   "source": "# Videoaula: Arquitetura de business intelligence",
   "id": "911d39fb0ac284bc"
  },
  {
   "metadata": {},
   "cell_type": "markdown",
   "source": [
    "**Contexto**\n",
    "> Fluxo de informação.\n",
    "> \n",
    "> Administração computadorizada.\n",
    "> \n",
    "> Profissionais de TI.\n",
    "> \n",
    "> Business Intelligence.\n",
    "\n",
    "**Business Intelligence(BI)**\n",
    "> Conjunto de técnicas.\n",
    "> \n",
    "> Mineração de dados.\n",
    "> \n",
    "> Produtos de fácil compreensão.\n",
    "> \n",
    "> Potêncializa a tomada de decisão.\n",
    "> \n",
    "> Tempo real."
   ],
   "id": "b068125b10692fc3"
  },
  {
   "metadata": {},
   "cell_type": "markdown",
   "source": "# Videoaula: Principais tendências para o business Intelligence",
   "id": "c9132374bb418802"
  },
  {
   "metadata": {},
   "cell_type": "markdown",
   "source": [
    "**Condições Atuais**\n",
    "> Feedback em tempo real.\n",
    "> \n",
    "> Preferências.\n",
    "> \n",
    "> Competitividade.\n",
    "\n",
    "**Tendências da BI**\n",
    "> Home Office.\n",
    "> \n",
    "> Adoção de IA."
   ],
   "id": "edce2543a00aa72d"
  }
 ],
 "metadata": {
  "kernelspec": {
   "display_name": "Python 3",
   "language": "python",
   "name": "python3"
  },
  "language_info": {
   "codemirror_mode": {
    "name": "ipython",
    "version": 2
   },
   "file_extension": ".py",
   "mimetype": "text/x-python",
   "name": "python",
   "nbconvert_exporter": "python",
   "pygments_lexer": "ipython2",
   "version": "2.7.6"
  }
 },
 "nbformat": 4,
 "nbformat_minor": 5
}
